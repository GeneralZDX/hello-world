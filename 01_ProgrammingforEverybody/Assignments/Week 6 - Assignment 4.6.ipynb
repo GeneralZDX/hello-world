{
 "cells": [
  {
   "cell_type": "markdown",
   "metadata": {},
   "source": [
    "#### Assignment 4.6"
   ]
  },
  {
   "cell_type": "markdown",
   "metadata": {},
   "source": [
    "Write a program to prompt the user for hours and rate per hour using input to compute gross pay. Pay should be the normal rate for hours up to 40 and time-and-a-half for the hourly rate for all hours worked above 40 hours. Put the logic to do the computation of pay in a function called **computepay()** and use the function to do the computation. The function should return a value. Use 45 hours and a rate of 10.50 per hour to test the program (the pay should be 498.75). You should use **input** to read a string and **float()** to convert the string to a number. Do not worry about error checking the user input unless you want to - you can assume the user types numbers properly. Do not name your variable sum or use the sum() function."
   ]
  },
  {
   "cell_type": "code",
   "execution_count": 4,
   "metadata": {},
   "outputs": [
    {
     "name": "stdin",
     "output_type": "stream",
     "text": [
      "Enter hours worked:  45\n",
      "Enter dollars paid per hour:  10.50\n"
     ]
    },
    {
     "name": "stdout",
     "output_type": "stream",
     "text": [
      "Pay 498.75\n"
     ]
    }
   ],
   "source": [
    "def computepay(totalHours, hourlyWage):\n",
    "    #'''Return the total weekly wages for a worker working totalHours,\n",
    "    #with a given regular hourlyWage.  Include overtime for hours over 40.\n",
    "    #'''\n",
    "    if totalHours <= 40:\n",
    "        totalWages = hourlyWage * totalHours\n",
    "    else:\n",
    "        overtime = totalHours - 40\n",
    "        totalWages = hourlyWage * 40 + (1.5 * hourlyWage * overtime)\n",
    "    return totalWages\n",
    "\n",
    "hours = float(input('Enter hours worked: '))\n",
    "wage = float(input('Enter dollars paid per hour: '))\n",
    "total = computepay(hours, wage)\n",
    "print(\"Pay\", total)\n",
    "\n"
   ]
  }
 ],
 "metadata": {
  "kernelspec": {
   "display_name": "Python 3",
   "language": "python",
   "name": "python3"
  },
  "language_info": {
   "codemirror_mode": {
    "name": "ipython",
    "version": 3
   },
   "file_extension": ".py",
   "mimetype": "text/x-python",
   "name": "python",
   "nbconvert_exporter": "python",
   "pygments_lexer": "ipython3",
   "version": "3.7.6"
  }
 },
 "nbformat": 4,
 "nbformat_minor": 4
}
