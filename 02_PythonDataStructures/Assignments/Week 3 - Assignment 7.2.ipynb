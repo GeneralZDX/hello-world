{
 "cells": [
  {
   "cell_type": "markdown",
   "metadata": {},
   "source": [
    "#### Assignment 7.2"
   ]
  },
  {
   "cell_type": "markdown",
   "metadata": {},
   "source": [
    "<hr>\n",
    "Write a program that prompts for a file name, then opens that file and reads through the file, looking for lines of the form: `X-DSPAM-Confidence:    0.8475`.\n",
    "Count these lines and extract the floating point values from each of the lines and compute the average of those values and produce an output as shown below. Do not use the sum() function or a variable named sum in your solution.\n",
    "You can download the sample data at http://www.py4e.com/code3/mbox-short.txt\n",
    "<hr>"
   ]
  },
  {
   "cell_type": "code",
   "execution_count": 1,
   "metadata": {},
   "outputs": [
    {
     "name": "stdin",
     "output_type": "stream",
     "text": [
      "Enter file name:  mbox-short.txt\n"
     ]
    },
    {
     "name": "stdout",
     "output_type": "stream",
     "text": [
      "Average spam confidence: 0.7507185185185187\n"
     ]
    }
   ],
   "source": [
    "# Use the file name mbox-short.txt as the file name\n",
    "fname = input(\"Enter file name: \")\n",
    "fh = open(fname)\n",
    "count = 0\n",
    "total_value = 0\n",
    "\n",
    "for line in fh:\n",
    "    line = line.rstrip()\n",
    "    if not line.startswith(\"X-DSPAM-Confidence:\") : continue\n",
    "    #print(line)\n",
    "    if line.find('0.') == -1: continue\n",
    "    #print(line)\n",
    "    \n",
    "    # This splits the component of the line variable\n",
    "    abc = line.split()\n",
    "    #print(abc)\n",
    "    value = float(abc[1])\n",
    "    #print(value)\n",
    "    \n",
    "    total_value = value + total_value\n",
    "    \n",
    "    # This counts the line\n",
    "    count =  count + 1\n",
    "    #print('Line count is:', count)  \n",
    "   \n",
    "#print(\"Done\")\n",
    "print('Average spam confidence:', total_value/count)"
   ]
  },
  {
   "cell_type": "code",
   "execution_count": null,
   "metadata": {},
   "outputs": [],
   "source": []
  }
 ],
 "metadata": {
  "kernelspec": {
   "display_name": "Python 3",
   "language": "python",
   "name": "python3"
  },
  "language_info": {
   "codemirror_mode": {
    "name": "ipython",
    "version": 3
   },
   "file_extension": ".py",
   "mimetype": "text/x-python",
   "name": "python",
   "nbconvert_exporter": "python",
   "pygments_lexer": "ipython3",
   "version": "3.7.6"
  }
 },
 "nbformat": 4,
 "nbformat_minor": 4
}
