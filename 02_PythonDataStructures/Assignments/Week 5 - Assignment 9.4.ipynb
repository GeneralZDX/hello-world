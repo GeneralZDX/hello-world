{
 "cells": [
  {
   "cell_type": "markdown",
   "metadata": {},
   "source": [
    "#### Assignment 9.4 \n",
    "<hr>"
   ]
  },
  {
   "cell_type": "markdown",
   "metadata": {},
   "source": [
    "\n",
    "Write a program to read through the **mbox-short.txt** and figure out who has sent the greatest number of mail messages. The program looks for 'From ' lines and takes the second word of those lines as the person who sent the mail. The program creates a Python dictionary that maps the sender's mail address to a count of the number of times they appear in the file. After the dictionary is produced, the program reads through the dictionary using a maximum loop to find the most prolific committer.\n",
    "<hr>"
   ]
  },
  {
   "cell_type": "code",
   "execution_count": 1,
   "metadata": {},
   "outputs": [
    {
     "name": "stdin",
     "output_type": "stream",
     "text": [
      "Enter File:  mbox-short.txt\n"
     ]
    },
    {
     "name": "stdout",
     "output_type": "stream",
     "text": [
      "cwen@iupui.edu 5\n"
     ]
    }
   ],
   "source": [
    "fname = input('Enter File: ') \n",
    "if len(fname) < 1 : fname = 'mbox-short.txt'\n",
    "handle = open(fname)\n",
    "\n",
    "counts = dict()\n",
    "for line in handle :\n",
    "    line = line.rstrip()\n",
    "    if not line.startswith('From ') : continue\n",
    "    words = line.split()\n",
    "    #print(words)\n",
    "    if words[1] not in counts :\n",
    "        counts[words[1]] = 1\n",
    "    else:\n",
    "        counts[words[1]] += 1\n",
    "#print(counts)\n",
    "\n",
    "largest = -1\n",
    "the_email = None\n",
    "for k,v in counts.items() :\n",
    "    #print(k,v)\n",
    "    if v > largest :\n",
    "        largest = v\n",
    "        the_email = k\n",
    "print(the_email, largest)\n",
    "#print('The email with the most prolific committer is', the_email, 'with', largest, 'commit')"
   ]
  },
  {
   "cell_type": "code",
   "execution_count": null,
   "metadata": {},
   "outputs": [],
   "source": []
  }
 ],
 "metadata": {
  "kernelspec": {
   "display_name": "Python 3",
   "language": "python",
   "name": "python3"
  },
  "language_info": {
   "codemirror_mode": {
    "name": "ipython",
    "version": 3
   },
   "file_extension": ".py",
   "mimetype": "text/x-python",
   "name": "python",
   "nbconvert_exporter": "python",
   "pygments_lexer": "ipython3",
   "version": "3.7.6"
  }
 },
 "nbformat": 4,
 "nbformat_minor": 4
}
