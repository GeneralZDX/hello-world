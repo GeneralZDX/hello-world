{
 "cells": [
  {
   "cell_type": "markdown",
   "metadata": {},
   "source": [
    "#### Tuples - Exercise 1"
   ]
  },
  {
   "cell_type": "markdown",
   "metadata": {},
   "source": [
    "Revise a previous program as follows: Read and parse the \"From\" lines and pull out the addresses from the line. \n",
    "Count the number of messages from each person using a dictionary."
   ]
  },
  {
   "cell_type": "code",
   "execution_count": 1,
   "metadata": {},
   "outputs": [],
   "source": [
    "# This notebook is a program to count the number of messages from each person using a dictionary."
   ]
  },
  {
   "cell_type": "code",
   "execution_count": 8,
   "metadata": {},
   "outputs": [
    {
     "name": "stdin",
     "output_type": "stream",
     "text": [
      "Enter File:  mbox-short.txt\n"
     ]
    },
    {
     "name": "stdout",
     "output_type": "stream",
     "text": [
      "{'stephen.marquard@uct.ac.za': 2, 'louis@media.berkeley.edu': 3, 'zqian@umich.edu': 4, 'rjlowe@iupui.edu': 2, 'cwen@iupui.edu': 5, 'gsilver@umich.edu': 3, 'wagnermr@iupui.edu': 1, 'antranig@caret.cam.ac.uk': 1, 'gopal.ramasammycook@gmail.com': 1, 'david.horwitz@uct.ac.za': 4, 'ray@media.berkeley.edu': 1}\n"
     ]
    }
   ],
   "source": [
    "fname = input('Enter File: ')\n",
    "if len(fname) < 1 : fname = 'mbox-short.txt'\n",
    "handle = open(fname)    \n",
    "\n",
    "counts = dict()\n",
    "for lin in handle :\n",
    "    lin = lin.rstrip()\n",
    "    if not lin.startswith('From '): continue\n",
    "    all_words = lin.split()\n",
    "    #print(all_words)\n",
    "    if all_words[1] not in counts:\n",
    "        counts[all_words[1]] = 1\n",
    "    else:\n",
    "        counts[all_words[1]] += 1\n",
    "print(counts)"
   ]
  },
  {
   "cell_type": "code",
   "execution_count": 5,
   "metadata": {},
   "outputs": [],
   "source": [
    "# We can find out who has the most message using the maximum and minimum loop as follows"
   ]
  },
  {
   "cell_type": "code",
   "execution_count": 9,
   "metadata": {},
   "outputs": [
    {
     "name": "stdout",
     "output_type": "stream",
     "text": [
      "stephen.marquard@uct.ac.za 2\n",
      "louis@media.berkeley.edu 3\n",
      "zqian@umich.edu 4\n",
      "rjlowe@iupui.edu 2\n",
      "cwen@iupui.edu 5\n",
      "gsilver@umich.edu 3\n",
      "wagnermr@iupui.edu 1\n",
      "antranig@caret.cam.ac.uk 1\n",
      "gopal.ramasammycook@gmail.com 1\n",
      "david.horwitz@uct.ac.za 4\n",
      "ray@media.berkeley.edu 1\n",
      "The email with the most prolific committer is cwen@iupui.edu with 5 commit\n"
     ]
    }
   ],
   "source": [
    "largest = -1\n",
    "the_email = None\n",
    "for k,v in counts.items() :\n",
    "    print(k,v)\n",
    "    if v > largest :\n",
    "        largest = v\n",
    "        the_email = k\n",
    "print('The email with the most prolific committer is', the_email, 'with', largest, 'commit')"
   ]
  },
  {
   "cell_type": "code",
   "execution_count": null,
   "metadata": {},
   "outputs": [],
   "source": [
    "# We can do this using a dictionary"
   ]
  },
  {
   "cell_type": "code",
   "execution_count": 13,
   "metadata": {},
   "outputs": [
    {
     "name": "stdout",
     "output_type": "stream",
     "text": [
      "Flipped [(2, 'stephen.marquard@uct.ac.za'), (3, 'louis@media.berkeley.edu'), (4, 'zqian@umich.edu'), (2, 'rjlowe@iupui.edu'), (5, 'cwen@iupui.edu'), (3, 'gsilver@umich.edu'), (1, 'wagnermr@iupui.edu'), (1, 'antranig@caret.cam.ac.uk'), (1, 'gopal.ramasammycook@gmail.com'), (4, 'david.horwitz@uct.ac.za'), (1, 'ray@media.berkeley.edu')]\n",
      "Sorted [(1, 'antranig@caret.cam.ac.uk'), (1, 'gopal.ramasammycook@gmail.com'), (1, 'ray@media.berkeley.edu'), (1, 'wagnermr@iupui.edu'), (2, 'rjlowe@iupui.edu'), (2, 'stephen.marquard@uct.ac.za'), (3, 'gsilver@umich.edu'), (3, 'louis@media.berkeley.edu'), (4, 'david.horwitz@uct.ac.za'), (4, 'zqian@umich.edu'), (5, 'cwen@iupui.edu')]\n"
     ]
    }
   ],
   "source": [
    "tmp = list()\n",
    "for k,v in counts.items() :\n",
    "    #print(k,v)\n",
    "    newt = (v,k)\n",
    "    tmp.append(newt)\n",
    "print('Flipped', tmp)\n",
    "\n",
    "tmp = sorted(tmp)\n",
    "print('Sorted', tmp)"
   ]
  },
  {
   "cell_type": "code",
   "execution_count": null,
   "metadata": {},
   "outputs": [],
   "source": []
  }
 ],
 "metadata": {
  "kernelspec": {
   "display_name": "Python 3",
   "language": "python",
   "name": "python3"
  },
  "language_info": {
   "codemirror_mode": {
    "name": "ipython",
    "version": 3
   },
   "file_extension": ".py",
   "mimetype": "text/x-python",
   "name": "python",
   "nbconvert_exporter": "python",
   "pygments_lexer": "ipython3",
   "version": "3.7.6"
  }
 },
 "nbformat": 4,
 "nbformat_minor": 4
}
