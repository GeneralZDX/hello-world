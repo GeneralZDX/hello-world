{
 "cells": [
  {
   "cell_type": "markdown",
   "metadata": {},
   "source": [
    "#### Tuples - Exercise 2"
   ]
  },
  {
   "cell_type": "markdown",
   "metadata": {},
   "source": [
    "This program counts the distribution of the hour of the day for each of the messages. \n",
    "You can pull the hour from the \"From\" line by finding the time string and then splitting that string \n",
    "into parts using the colon character. Once you have accumulated the counts for each hour, print out \n",
    "the counts, one per line, sorted by hour as shown below."
   ]
  },
  {
   "cell_type": "code",
   "execution_count": 1,
   "metadata": {},
   "outputs": [],
   "source": [
    "# This notebook is a program to count the number of messages from each person using a dictionary."
   ]
  },
  {
   "cell_type": "code",
   "execution_count": 21,
   "metadata": {},
   "outputs": [
    {
     "name": "stdin",
     "output_type": "stream",
     "text": [
      "Enter File:  mbox-short.txt\n"
     ]
    },
    {
     "name": "stdout",
     "output_type": "stream",
     "text": [
      "{'09': 2, '18': 1, '16': 4, '15': 2, '14': 1, '11': 6, '10': 3, '07': 1, '06': 1, '04': 3, '19': 1, '17': 2}\n"
     ]
    }
   ],
   "source": [
    "# Initialize variable\n",
    "counts = dict()\n",
    "dict_tim = dict()\n",
    "\n",
    "fname = input('Enter File: ')\n",
    "if len(fname) < 1 : fname = 'mbox-short.txt'\n",
    "handle = open(fname)    \n",
    "\n",
    "for lin in handle :\n",
    "    lin = lin.rstrip()\n",
    "    if not lin.startswith('From '): continue\n",
    "    all_words = lin.split()\n",
    "    #print(all_words)\n",
    "    if all_words[5] not in counts:\n",
    "        counts[all_words[5]] = 1\n",
    "    else:\n",
    "        counts[all_words[5]] += 1\n",
    "#print(counts)\n",
    "\n",
    "\n",
    "for hour_tim in counts :\n",
    "    tim = hour_tim.split(':')\n",
    "    col_pos = tim[0]\n",
    "    #print(col_pos)\n",
    "    if col_pos not in dict_tim :\n",
    "        dict_tim[col_pos] = 1\n",
    "    else:\n",
    "        dict_tim[col_pos] += 1\n",
    "print(dict_tim)"
   ]
  },
  {
   "cell_type": "code",
   "execution_count": 2,
   "metadata": {},
   "outputs": [],
   "source": [
    "# We can print out the count sorted by hour as shown below"
   ]
  },
  {
   "cell_type": "code",
   "execution_count": 24,
   "metadata": {},
   "outputs": [
    {
     "name": "stdout",
     "output_type": "stream",
     "text": [
      "04 3\n",
      "06 1\n",
      "07 1\n",
      "09 2\n",
      "10 3\n",
      "11 6\n",
      "14 1\n",
      "15 2\n",
      "16 4\n",
      "17 2\n",
      "18 1\n",
      "19 1\n"
     ]
    }
   ],
   "source": [
    "# Sort the dictionary by value\n",
    "timeofday = list()\n",
    "for key, val in list(dict_tim.items()):\n",
    "    timeofday.append((key, val))              # Fills list with hour, count of dict\n",
    "\n",
    "timeofday.sort()                              # Sorts by hour\n",
    "\n",
    "for key, val in timeofday:\n",
    "    print(key, val)"
   ]
  },
  {
   "cell_type": "code",
   "execution_count": null,
   "metadata": {},
   "outputs": [],
   "source": []
  }
 ],
 "metadata": {
  "kernelspec": {
   "display_name": "Python 3",
   "language": "python",
   "name": "python3"
  },
  "language_info": {
   "codemirror_mode": {
    "name": "ipython",
    "version": 3
   },
   "file_extension": ".py",
   "mimetype": "text/x-python",
   "name": "python",
   "nbconvert_exporter": "python",
   "pygments_lexer": "ipython3",
   "version": "3.7.6"
  }
 },
 "nbformat": 4,
 "nbformat_minor": 4
}
