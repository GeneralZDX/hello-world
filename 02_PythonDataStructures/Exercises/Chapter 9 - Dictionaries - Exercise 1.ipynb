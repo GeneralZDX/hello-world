{
 "cells": [
  {
   "cell_type": "markdown",
   "metadata": {},
   "source": [
    "#### Word processing program"
   ]
  },
  {
   "cell_type": "code",
   "execution_count": 1,
   "metadata": {},
   "outputs": [],
   "source": [
    "# This notebook is a program to read through the mbox-short.txt and figure out the word with the largest occurence"
   ]
  },
  {
   "cell_type": "code",
   "execution_count": 16,
   "metadata": {},
   "outputs": [
    {
     "name": "stdin",
     "output_type": "stream",
     "text": [
      "Enter File:  mbox-short.txt\n"
     ]
    }
   ],
   "source": [
    "fname = input('Enter File: ')\n",
    "if len(fname) < 1 : fname = 'mbox-short.txt'\n",
    "handle = open(fname)\n",
    "\n",
    "di = dict()\n",
    "for lin in handle:\n",
    "    lin = lin.rstrip()\n",
    "    all_words = lin.split()\n",
    "    for x in all_words:\n",
    "        # idiom: retrieve/create/update counter\n",
    "        di[x] = di.get(x,0) + 1\n",
    "#print(di)"
   ]
  },
  {
   "cell_type": "code",
   "execution_count": null,
   "metadata": {},
   "outputs": [],
   "source": [
    "# now we want to find the most common word"
   ]
  },
  {
   "cell_type": "code",
   "execution_count": 17,
   "metadata": {},
   "outputs": [
    {
     "name": "stdout",
     "output_type": "stream",
     "text": [
      "The word with the highest number of occurence is Jan with 352 occurence\n"
     ]
    }
   ],
   "source": [
    "largest = -1\n",
    "theword = None\n",
    "for k,v in di.items() :\n",
    "    #print(k,v)\n",
    "    if v > largest :\n",
    "        largest = v\n",
    "        theword = k # capture/remember the word that was largest\n",
    "print('The word with the highest number of occurence is', theword, 'with', largest, 'occurence' )"
   ]
  },
  {
   "cell_type": "code",
   "execution_count": null,
   "metadata": {},
   "outputs": [],
   "source": []
  }
 ],
 "metadata": {
  "kernelspec": {
   "display_name": "Python 3",
   "language": "python",
   "name": "python3"
  },
  "language_info": {
   "codemirror_mode": {
    "name": "ipython",
    "version": 3
   },
   "file_extension": ".py",
   "mimetype": "text/x-python",
   "name": "python",
   "nbconvert_exporter": "python",
   "pygments_lexer": "ipython3",
   "version": "3.7.6"
  }
 },
 "nbformat": 4,
 "nbformat_minor": 4
}
