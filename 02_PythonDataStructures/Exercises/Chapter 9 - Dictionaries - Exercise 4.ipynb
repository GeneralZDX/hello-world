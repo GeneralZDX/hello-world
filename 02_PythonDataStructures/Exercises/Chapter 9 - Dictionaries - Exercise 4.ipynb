{
 "cells": [
  {
   "cell_type": "markdown",
   "metadata": {},
   "source": [
    "#### Dictionaries - Exercise 4"
   ]
  },
  {
   "cell_type": "markdown",
   "metadata": {},
   "source": [
    "Add code to the above program to figure out who has the most messages in the file. \n",
    "After all the data has been read and the dictionary has been created, look through the dictionary \n",
    "using a maximum loop (see Chapter 5: Maximum and minimum loops) to find who has the most messages \n",
    "and print how many messages the person has."
   ]
  },
  {
   "cell_type": "code",
   "execution_count": 25,
   "metadata": {},
   "outputs": [],
   "source": [
    "# This notebook is a program to find which email has the most messaage and print how many message the person has"
   ]
  },
  {
   "cell_type": "code",
   "execution_count": 22,
   "metadata": {},
   "outputs": [
    {
     "name": "stdin",
     "output_type": "stream",
     "text": [
      "Enter File:  mbox-short.txt\n"
     ]
    },
    {
     "name": "stdout",
     "output_type": "stream",
     "text": [
      "{'stephen.marquard@uct.ac.za': 2, 'louis@media.berkeley.edu': 3, 'zqian@umich.edu': 4, 'rjlowe@iupui.edu': 2, 'cwen@iupui.edu': 5, 'gsilver@umich.edu': 3, 'wagnermr@iupui.edu': 1, 'antranig@caret.cam.ac.uk': 1, 'gopal.ramasammycook@gmail.com': 1, 'david.horwitz@uct.ac.za': 4, 'ray@media.berkeley.edu': 1}\n"
     ]
    }
   ],
   "source": [
    "fname = input('Enter File: ') \n",
    "if len(fname) < 1 : fname = 'mbox-short.txt'\n",
    "handle = open(fname)\n",
    "\n",
    "counts = dict()\n",
    "for line in handle :\n",
    "    line = line.rstrip()\n",
    "    if not line.startswith('From ') : continue\n",
    "    words = line.split()\n",
    "    #print(words)\n",
    "    if words[1] not in counts :\n",
    "        counts[words[1]] = 1\n",
    "    else:\n",
    "        counts[words[1]] += 1\n",
    "print(counts)"
   ]
  },
  {
   "cell_type": "code",
   "execution_count": 17,
   "metadata": {},
   "outputs": [],
   "source": [
    "# We can find out who has the most message using the maximum and minimum loop as follows"
   ]
  },
  {
   "cell_type": "code",
   "execution_count": 24,
   "metadata": {},
   "outputs": [
    {
     "name": "stdout",
     "output_type": "stream",
     "text": [
      "stephen.marquard@uct.ac.za 2\n",
      "louis@media.berkeley.edu 3\n",
      "zqian@umich.edu 4\n",
      "rjlowe@iupui.edu 2\n",
      "cwen@iupui.edu 5\n",
      "gsilver@umich.edu 3\n",
      "wagnermr@iupui.edu 1\n",
      "antranig@caret.cam.ac.uk 1\n",
      "gopal.ramasammycook@gmail.com 1\n",
      "david.horwitz@uct.ac.za 4\n",
      "ray@media.berkeley.edu 1\n",
      "The email with the most prolific committer is cwen@iupui.edu with 5 commit\n"
     ]
    }
   ],
   "source": [
    "largest = -1\n",
    "the_email = None\n",
    "for k,v in counts.items() :\n",
    "    print(k,v)\n",
    "    if v > largest :\n",
    "        largest = v\n",
    "        the_email = k\n",
    "print('The email with the most prolific committer is', the_email, 'with', largest, 'commit')"
   ]
  },
  {
   "cell_type": "code",
   "execution_count": null,
   "metadata": {},
   "outputs": [],
   "source": []
  }
 ],
 "metadata": {
  "kernelspec": {
   "display_name": "Python 3",
   "language": "python",
   "name": "python3"
  },
  "language_info": {
   "codemirror_mode": {
    "name": "ipython",
    "version": 3
   },
   "file_extension": ".py",
   "mimetype": "text/x-python",
   "name": "python",
   "nbconvert_exporter": "python",
   "pygments_lexer": "ipython3",
   "version": "3.7.6"
  }
 },
 "nbformat": 4,
 "nbformat_minor": 4
}
