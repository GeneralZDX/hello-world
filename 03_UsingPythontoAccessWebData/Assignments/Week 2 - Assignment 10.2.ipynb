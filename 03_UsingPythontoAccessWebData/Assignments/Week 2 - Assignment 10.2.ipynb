{
 "cells": [
  {
   "cell_type": "markdown",
   "metadata": {},
   "source": [
    "#### Assignment 10.2 \n",
    "<hr>"
   ]
  },
  {
   "cell_type": "markdown",
   "metadata": {},
   "source": [
    "Write a program to read through the **mbox-short.txt** and figure out the distribution by hour of the day for each of the messages. You can pull the hour out from the 'From ' line by finding the time and then splitting the string a second time using a colon.\n",
    "`From stephen.marquard@uct.ac.za Sat Jan  5 09:14:16 2008`\n",
    "Once you have accumulated the counts for each hour, print out the counts, sorted by hour as shown below.\n",
    "<hr>"
   ]
  },
  {
   "cell_type": "code",
   "execution_count": null,
   "metadata": {},
   "outputs": [],
   "source": [
    "# Initialize variable\n",
    "counts = dict()\n",
    "dict_tim = dict()\n",
    "\n",
    "fname = input('Enter File: ')\n",
    "if len(fname) < 1 : fname = 'mbox-short.txt'\n",
    "handle = open(fname)    \n",
    "\n",
    "for lin in handle :\n",
    "    lin = lin.rstrip()\n",
    "    if not lin.startswith('From '): continue\n",
    "    all_words = lin.split()\n",
    "    #print(all_words)\n",
    "    if all_words[5] not in counts:\n",
    "        counts[all_words[5]] = 1\n",
    "    else:\n",
    "        counts[all_words[5]] += 1\n",
    "#print(counts)\n",
    "\n",
    "\n",
    "for hour_tim in counts :\n",
    "    tim = hour_tim.split(':')\n",
    "    col_pos = tim[0]\n",
    "    if col_pos not in dict_tim :\n",
    "        dict_tim[col_pos] = 1\n",
    "    else:\n",
    "        dict_tim[col_pos] += 1\n",
    "#print(dict_tim)\n",
    "\n",
    "timeofday = list()\n",
    "for key, val in list(dict_tim.items()):\n",
    "    timeofday.append((key, val))              # Fills list with hour, count of dict\n",
    "\n",
    "timeofday.sort()                              # Sorts by hour\n",
    "\n",
    "for key, val in timeofday:\n",
    "    print(key, val)"
   ]
  }
 ],
 "metadata": {
  "kernelspec": {
   "display_name": "Python 3",
   "language": "python",
   "name": "python3"
  },
  "language_info": {
   "codemirror_mode": {
    "name": "ipython",
    "version": 3
   },
   "file_extension": ".py",
   "mimetype": "text/x-python",
   "name": "python",
   "nbconvert_exporter": "python",
   "pygments_lexer": "ipython3",
   "version": "3.7.6"
  }
 },
 "nbformat": 4,
 "nbformat_minor": 4
}
