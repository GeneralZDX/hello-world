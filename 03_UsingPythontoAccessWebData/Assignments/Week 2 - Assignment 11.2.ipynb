{
 "cells": [
  {
   "cell_type": "markdown",
   "metadata": {},
   "source": [
    "#### Assignment 11.2"
   ]
  },
  {
   "cell_type": "markdown",
   "metadata": {},
   "source": [
    "#### Finding Numbers in a Haystack"
   ]
  },
  {
   "cell_type": "code",
   "execution_count": null,
   "metadata": {},
   "outputs": [],
   "source": [
    "# This code extracts numbers from expression and finds the sum"
   ]
  },
  {
   "cell_type": "code",
   "execution_count": 38,
   "metadata": {},
   "outputs": [
    {
     "name": "stdout",
     "output_type": "stream",
     "text": [
      "409954.0\n"
     ]
    }
   ],
   "source": [
    "import re\n",
    "handle  = open('regex_sum_1013976.txt')\n",
    "\n",
    "numlist = list() # Creating an empty list\n",
    "for line in handle:\n",
    "    line  =  line.rstrip()\n",
    "    all_num = re.findall('[0-9]+', line)\n",
    "    if len(all_num) > 0:\n",
    "        for num in all_num:\n",
    "            num = float(num)\n",
    "            numlist = numlist + [num]    \n",
    "numlist_sum = sum(numlist)\n",
    "print(numlist_sum)"
   ]
  }
 ],
 "metadata": {
  "kernelspec": {
   "display_name": "Python 3",
   "language": "python",
   "name": "python3"
  },
  "language_info": {
   "codemirror_mode": {
    "name": "ipython",
    "version": 3
   },
   "file_extension": ".py",
   "mimetype": "text/x-python",
   "name": "python",
   "nbconvert_exporter": "python",
   "pygments_lexer": "ipython3",
   "version": "3.7.6"
  }
 },
 "nbformat": 4,
 "nbformat_minor": 4
}
