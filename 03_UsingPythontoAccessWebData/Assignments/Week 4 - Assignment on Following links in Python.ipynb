{
 "cells": [
  {
   "cell_type": "markdown",
   "metadata": {},
   "source": [
    "#### Week 4 - Following links in Python"
   ]
  },
  {
   "cell_type": "markdown",
   "metadata": {},
   "source": [
    "In this assignment, you are to develop a program that will use `urllib` to read the HTML from the data files below, extract the href= values from the anchor tags, scan for a tag that is in a particular position relative to the first name in the list, follow that link and repeat the process a number of times and report the last name you find.The data file is `http://py4e-data.dr-chuck.net/known_by_Amahle.html`"
   ]
  },
  {
   "cell_type": "code",
   "execution_count": 9,
   "metadata": {},
   "outputs": [
    {
     "name": "stdin",
     "output_type": "stream",
     "text": [
      "Enter url:  http://py4e-data.dr-chuck.net/known_by_Amahle.html\n",
      "Enter count:  7\n",
      "Enter position:  18\n"
     ]
    },
    {
     "name": "stdout",
     "output_type": "stream",
     "text": [
      "Retrieving http://py4e-data.dr-chuck.net/known_by_Amahle.html\n",
      "Retrieving http://py4e-data.dr-chuck.net/known_by_Rhyse.html\n",
      "Retrieving http://py4e-data.dr-chuck.net/known_by_Micheal.html\n",
      "Retrieving http://py4e-data.dr-chuck.net/known_by_Kendra.html\n",
      "Retrieving http://py4e-data.dr-chuck.net/known_by_Sabah.html\n",
      "Retrieving http://py4e-data.dr-chuck.net/known_by_Kale.html\n",
      "Retrieving http://py4e-data.dr-chuck.net/known_by_Rebbecah.html\n",
      "Retrieving http://py4e-data.dr-chuck.net/known_by_Tara.html\n"
     ]
    }
   ],
   "source": [
    "\n",
    "import urllib.request, urllib.parse, urllib.error\n",
    "from bs4 import BeautifulSoup\n",
    "import ssl, sys\n",
    "\n",
    "# Ignore SSL certificate errors\n",
    "ctx = ssl.create_default_context()\n",
    "ctx.check_hostname = False\n",
    "ctx.verify_mode = ssl.CERT_NONE\n",
    "\n",
    "url = input('Enter url: ')\n",
    "count = input('Enter count: ')\n",
    "position = input('Enter position: ')\n",
    "\n",
    "html = urllib.request.urlopen(url, context=ctx).read()\n",
    "soup = BeautifulSoup(html, 'html.parser')\n",
    "\n",
    "# Retrieve all of the anchor tags\n",
    "print(\"Retrieving\",url)\n",
    "tags = soup('a')\n",
    "for i in range(int(count)):\n",
    "    links = []\n",
    "    for tag in tags:\n",
    "        links.append(str(tag.get('href', None)))\n",
    "    html = urllib.request.urlopen(links[int(position)-1], context=ctx).read()\n",
    "    soup = BeautifulSoup(html, 'html.parser')\n",
    "    print(\"Retrieving\",links[int(position)-1])\n",
    "    tags = soup('a')"
   ]
  },
  {
   "cell_type": "code",
   "execution_count": null,
   "metadata": {},
   "outputs": [],
   "source": []
  }
 ],
 "metadata": {
  "kernelspec": {
   "display_name": "Python 3",
   "language": "python",
   "name": "python3"
  },
  "language_info": {
   "codemirror_mode": {
    "name": "ipython",
    "version": 3
   },
   "file_extension": ".py",
   "mimetype": "text/x-python",
   "name": "python",
   "nbconvert_exporter": "python",
   "pygments_lexer": "ipython3",
   "version": "3.7.6"
  }
 },
 "nbformat": 4,
 "nbformat_minor": 4
}
