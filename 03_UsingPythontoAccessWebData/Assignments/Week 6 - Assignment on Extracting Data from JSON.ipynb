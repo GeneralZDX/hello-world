{
 "cells": [
  {
   "cell_type": "markdown",
   "metadata": {},
   "source": [
    "#### Extracting Data from JSON"
   ]
  },
  {
   "cell_type": "markdown",
   "metadata": {},
   "source": [
    "In this assignment you will write a Python program somewhat similar to `http://www.py4e.com/code3/json2.py`. The program will prompt for a URL, read the JSON data from that URL using urllib and then parse and extract the comment counts from the JSON data, compute the sum of the numbers in the file and enter the sum below:\n",
    "We provide two files for this assignment. One is a sample file where we give you the sum for your testing and the other is the actual data you need to process for the assignment.\n",
    "\n",
    "- Sample data: http://py4e-data.dr-chuck.net/comments_42.json (Sum=2553)\n",
    "- Actual data: http://py4e-data.dr-chuck.net/comments_1013981.json (Sum ends with 9)\n",
    "You do not need to save these files to your folder since your program will read the data directly from the URL. Note: Each student will have a distinct data url for the assignment - so only use your own data url for analysis."
   ]
  },
  {
   "cell_type": "code",
   "execution_count": 13,
   "metadata": {},
   "outputs": [
    {
     "name": "stdin",
     "output_type": "stream",
     "text": [
      "Enter location:   http://py4e-data.dr-chuck.net/comments_1013981.json\n"
     ]
    },
    {
     "name": "stdout",
     "output_type": "stream",
     "text": [
      "Retrieving  http://py4e-data.dr-chuck.net/comments_1013981.json\n",
      "Retrieved 1747 characters\n",
      "[{'name': 'Ceara', 'count': 99}, {'name': 'Saunders', 'count': 98}, {'name': 'Katy', 'count': 97}, {'name': 'Chelsi', 'count': 96}, {'name': 'Harper', 'count': 95}, {'name': 'Haydn', 'count': 94}, {'name': 'Kasha', 'count': 94}, {'name': 'Juwairiyah', 'count': 93}, {'name': 'Valen', 'count': 92}, {'name': 'Marcedez', 'count': 92}, {'name': 'Elizaveta', 'count': 88}, {'name': 'Cyrus', 'count': 87}, {'name': 'Murdina', 'count': 79}, {'name': 'Kelsie', 'count': 77}, {'name': 'Brandonlee', 'count': 75}, {'name': 'Yasin', 'count': 70}, {'name': 'Spondon', 'count': 70}, {'name': 'Sanjana', 'count': 69}, {'name': 'Kyler', 'count': 65}, {'name': 'Lexy', 'count': 60}, {'name': 'Faryn', 'count': 57}, {'name': 'Kalia', 'count': 56}, {'name': 'Brandyn', 'count': 56}, {'name': 'Precious', 'count': 55}, {'name': 'Marcie', 'count': 54}, {'name': 'Yann', 'count': 48}, {'name': 'Vuyolwethu', 'count': 48}, {'name': 'Maija', 'count': 47}, {'name': 'Rachel', 'count': 45}, {'name': 'Sajida', 'count': 45}, {'name': 'Siddharth', 'count': 43}, {'name': 'Aleese', 'count': 42}, {'name': 'Altyiab', 'count': 38}, {'name': 'Teyyibah', 'count': 36}, {'name': 'Sophia', 'count': 34}, {'name': 'Faisal', 'count': 32}, {'name': 'Millie', 'count': 31}, {'name': 'Meghana', 'count': 27}, {'name': 'Ken', 'count': 19}, {'name': 'Bonnie', 'count': 19}, {'name': 'Marysia', 'count': 18}, {'name': 'Oghenedoro', 'count': 14}, {'name': 'Nevada', 'count': 12}, {'name': 'Hadyn', 'count': 10}, {'name': 'Haajirah', 'count': 10}, {'name': 'Lochlann', 'count': 9}, {'name': 'Girijan', 'count': 5}, {'name': 'Saiba', 'count': 4}, {'name': 'Seamas', 'count': 3}, {'name': 'Nickson', 'count': 2}]\n",
      "Count: 50\n",
      "Sum: 2609\n"
     ]
    }
   ],
   "source": [
    "import urllib.request, urllib.parse, urllib.error\n",
    "import json\n",
    "\n",
    "address = input('Enter location: ')\n",
    "print('Retrieving', address)\n",
    "with urllib.request.urlopen(address) as url:\n",
    "    raw = json.loads(url.read().decode())\n",
    "\n",
    "print('Retrieved', len(str(raw)), 'characters')\n",
    "data = raw.get(\"comments\")\n",
    "print(data)\n",
    "num = total = 0\n",
    "for i in range(len(data)):\n",
    "    tmp = data[i]\n",
    "    value = tmp.get(\"count\")\n",
    "    num = num + 1\n",
    "    total = total + int(value)\n",
    "print(\"Count:\",num)\n",
    "print(\"Sum:\",total)"
   ]
  },
  {
   "cell_type": "code",
   "execution_count": null,
   "metadata": {},
   "outputs": [],
   "source": []
  }
 ],
 "metadata": {
  "kernelspec": {
   "display_name": "Python 3",
   "language": "python",
   "name": "python3"
  },
  "language_info": {
   "codemirror_mode": {
    "name": "ipython",
    "version": 3
   },
   "file_extension": ".py",
   "mimetype": "text/x-python",
   "name": "python",
   "nbconvert_exporter": "python",
   "pygments_lexer": "ipython3",
   "version": "3.7.6"
  }
 },
 "nbformat": 4,
 "nbformat_minor": 4
}
