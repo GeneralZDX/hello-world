{
 "cells": [
  {
   "cell_type": "markdown",
   "metadata": {},
   "source": [
    "#### Worked Example: Counting Organization in a Database"
   ]
  },
  {
   "cell_type": "code",
   "execution_count": 8,
   "metadata": {},
   "outputs": [
    {
     "name": "stdin",
     "output_type": "stream",
     "text": [
      "Enter file name:  mbox.txt\n"
     ]
    },
    {
     "name": "stdout",
     "output_type": "stream",
     "text": [
      "Counts:\n",
      "iupui.edu 536\n",
      "umich.edu 491\n",
      "indiana.edu 178\n",
      "caret.cam.ac.uk 157\n",
      "vt.edu 110\n",
      "uct.ac.za 96\n",
      "media.berkeley.edu 56\n",
      "ufp.pt 28\n",
      "gmail.com 25\n",
      "et.gatech.edu 17\n"
     ]
    }
   ],
   "source": [
    "#!/usr/bin/env python\n",
    "\n",
    "# Counting Organizations\n",
    "\n",
    "# This application will read the mailbox data (mbox.txt) count up the number\n",
    "# email messages per organization (i.e. domain name of the email address) using\n",
    "# a database with the following schema to maintain the counts.\n",
    "'''\n",
    "CREATE TABLE Counts (org TEXT, count INTEGER)\n",
    "'''\n",
    "# You can use this code as a starting point for your application:\n",
    "# http://www.pythonlearn.com/code/emaildb.py.\n",
    "\n",
    "# The data file for this application is the same as in previous assignments:\n",
    "# http://www.pythonlearn.com/code/mbox.txt.\n",
    "\n",
    "# Because the sample code is using an UPDATE statement and committing the\n",
    "# results to the database as each record is read in the loop, it might take as\n",
    "# long as a few minutes to process all the data. The commit insists on\n",
    "# completely writing all the data to disk every time it is called.\n",
    "\n",
    "# The program can be speeded up greatly by moving the commit operation outside\n",
    "# of the loop. In any database program, there is a balance between the number of\n",
    "# operations you execute between commits and the importance of not losing the\n",
    "# results of operations that have not yet been committed.\n",
    "\n",
    "import sqlite3\n",
    "\n",
    "# create connection object\n",
    "conn = sqlite3.connect('org_count.sqlite')\n",
    "\n",
    "# create cursor object\n",
    "cur = conn.cursor()\n",
    "\n",
    "# delete table if it exists\n",
    "cur.execute('''\n",
    "DROP TABLE IF EXISTS Counts''')\n",
    "\n",
    "# create table with attributes org and count\n",
    "cur.execute('CREATE TABLE Counts (org TEXT, count INTEGER)')\n",
    "\n",
    "# read file name from cmdline\n",
    "fname = input('Enter file name: ')\n",
    "\n",
    "# assign default if none entered in cmdline\n",
    "if ( len(fname) < 1 ) : fname = 'mbox.txt'\n",
    "    \n",
    "# create handle to open filename entered\n",
    "fh = open(fname)\n",
    "\n",
    "# loop through to filter for email, then filter for org\n",
    "for line in fh:\n",
    "    if not line.startswith('From: ') : continue\n",
    "    org = line.split()[1].split('@')[1]\n",
    "    # retrieve existing data\n",
    "    cur.execute('SELECT count FROM Counts WHERE org = ? ', (org, ))\n",
    "    \n",
    "    # query database\n",
    "    row = cur.fetchone()\n",
    "    \n",
    "    # if it don't exists, insert else update  \n",
    "    if row is None:\n",
    "        cur.execute('INSERT INTO Counts (org, count) VALUES ( ?, 1 )', ( org, ))\n",
    "    else :\n",
    "        cur.execute('UPDATE Counts SET count=count+1 WHERE org = ?', (org, ))\n",
    "\n",
    "    # This statement commits outstanding changes to disk each\n",
    "    # time through the loop - the program can be made faster\n",
    "    # by moving the commit so it runs only after the loop completes\n",
    "    conn.commit()\n",
    "\n",
    "# show count  \n",
    "# https://www.sqlite.org/lang_select.html\n",
    "sqlstr = 'SELECT org, count FROM Counts ORDER BY count DESC LIMIT 10'\n",
    "\n",
    "print(\"Counts:\")\n",
    "for row in cur.execute(sqlstr) :\n",
    "    print(str(row[0]), row[1])\n",
    "\n",
    "# close cursor\n",
    "cur.close()"
   ]
  },
  {
   "cell_type": "code",
   "execution_count": null,
   "metadata": {},
   "outputs": [],
   "source": []
  }
 ],
 "metadata": {
  "kernelspec": {
   "display_name": "Python 3",
   "language": "python",
   "name": "python3"
  },
  "language_info": {
   "codemirror_mode": {
    "name": "ipython",
    "version": 3
   },
   "file_extension": ".py",
   "mimetype": "text/x-python",
   "name": "python",
   "nbconvert_exporter": "python",
   "pygments_lexer": "ipython3",
   "version": "3.7.6"
  }
 },
 "nbformat": 4,
 "nbformat_minor": 4
}
